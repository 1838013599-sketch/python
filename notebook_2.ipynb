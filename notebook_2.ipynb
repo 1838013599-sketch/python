{
  "cells": [
    {
      "cell_type": "markdown",
      "id": "7dbb9270-23e4-4cc2-b5ff-f32b0ae61193",
      "metadata": {
        "id": "7dbb9270-23e4-4cc2-b5ff-f32b0ae61193"
      },
      "source": [
        "# Working with Data - Session 2"
      ]
    },
    {
      "cell_type": "markdown",
      "id": "a286317a-5824-4908-b3ec-e5eaceee3f87",
      "metadata": {
        "id": "a286317a-5824-4908-b3ec-e5eaceee3f87"
      },
      "source": [
        "## 1. Working with variables\n",
        "\n",
        "Variables are like containers that store information in your programs. They're one of the most fundamental concepts in programming—imagine labeled boxes where you can put different types of data and use them later.\n",
        "\n",
        "With variables, your programs become dynamic and useful. You can store user input, remember calculations, and work with different data each time your program runs!\n",
        "\n",
        "Creating variables in Python is simple! You just give the variable a name and assign it a value using the equals sign (=). This is called the assignment operator—it takes the value on the right and stores it in the variable on the left."
      ]
    },
    {
      "cell_type": "code",
      "execution_count": null,
      "id": "7e035508-5614-43a0-b60f-8f96f7d96c09",
      "metadata": {
        "id": "7e035508-5614-43a0-b60f-8f96f7d96c09"
      },
      "outputs": [],
      "source": []
    },
    {
      "cell_type": "markdown",
      "id": "42214dc7-e46e-4e2d-aa6f-9ff2000cc8c7",
      "metadata": {
        "id": "42214dc7-e46e-4e2d-aa6f-9ff2000cc8c7"
      },
      "source": [
        "## 2. String Formatting with f-strings\n",
        "\n",
        "f-strings are Python's modern way to insert variable values into text. They make your output clean and readable."
      ]
    },
    {
      "cell_type": "code",
      "execution_count": null,
      "id": "38359e79-ac82-4f8f-aad2-299728b12ee8",
      "metadata": {
        "id": "38359e79-ac82-4f8f-aad2-299728b12ee8"
      },
      "outputs": [],
      "source": []
    },
    {
      "cell_type": "markdown",
      "id": "21577d55-1660-48f6-a2e8-1390e93af8e7",
      "metadata": {
        "id": "21577d55-1660-48f6-a2e8-1390e93af8e7"
      },
      "source": [
        "## 3. Variables"
      ]
    },
    {
      "cell_type": "markdown",
      "id": "ea237f77-939c-4243-b5e6-8c57d7f674c4",
      "metadata": {
        "id": "ea237f77-939c-4243-b5e6-8c57d7f674c4"
      },
      "source": [
        "Variables are like containers that store information. They let you save data and use it later in your program.\n",
        "- Create variables to store the values\n",
        "- Can later be used by variable name\n"
      ]
    },
    {
      "cell_type": "code",
      "execution_count": null,
      "id": "37d255b8-1485-4b98-8088-948550832d70",
      "metadata": {
        "id": "37d255b8-1485-4b98-8088-948550832d70"
      },
      "outputs": [],
      "source": []
    },
    {
      "cell_type": "code",
      "execution_count": null,
      "id": "029ee8f4-9b24-44bc-bd9e-3e1e95b5b93c",
      "metadata": {
        "id": "029ee8f4-9b24-44bc-bd9e-3e1e95b5b93c"
      },
      "outputs": [],
      "source": []
    },
    {
      "cell_type": "code",
      "execution_count": null,
      "id": "5bb028dc-7a40-4e46-bb0b-772ccd479cb0",
      "metadata": {
        "id": "5bb028dc-7a40-4e46-bb0b-772ccd479cb0"
      },
      "outputs": [],
      "source": []
    },
    {
      "cell_type": "markdown",
      "id": "fef5e16d-30c2-4545-9e3e-367d8ae6d9c8",
      "metadata": {
        "id": "fef5e16d-30c2-4545-9e3e-367d8ae6d9c8"
      },
      "source": [
        "## 4. Understanding Data Types\n",
        "\n",
        "In Python, every piece of data has a type that defines how you can use it.\n",
        "\n",
        "Knowing data types helps you predict behavior and avoid errors.\n",
        "\n",
        "think of them as labels like “number for math” or “text for display.”"
      ]
    },
    {
      "cell_type": "code",
      "execution_count": null,
      "id": "2b4c07ac-fc38-486e-9be0-4afa3ecd6ff1",
      "metadata": {
        "id": "2b4c07ac-fc38-486e-9be0-4afa3ecd6ff1"
      },
      "outputs": [],
      "source": []
    },
    {
      "cell_type": "markdown",
      "id": "37e9a293-399c-4e69-9397-72e81969550f",
      "metadata": {
        "id": "37e9a293-399c-4e69-9397-72e81969550f"
      },
      "source": [
        "## 5. Working with numbers\n",
        "\n",
        "**Integers** and **Floats**\n",
        "\n",
        "Data types are the building blocks of programming! They tell Python what kind of information you're working with—whether it's numbers for calculations, text for messages, or True/False values for decisions. Understanding data types helps you write better code and avoid common mistakes.\n",
        "\n",
        "Python automatically figures out what type of data you have, making it beginner-friendly while giving you powerful tools to work with different kinds of information.\n",
        "\n",
        "\n",
        "You can use Type() function to check variable type."
      ]
    },
    {
      "cell_type": "code",
      "execution_count": null,
      "id": "46d014a0-1116-4e7a-be1a-6ae51db3a0c1",
      "metadata": {
        "id": "46d014a0-1116-4e7a-be1a-6ae51db3a0c1"
      },
      "outputs": [],
      "source": []
    },
    {
      "cell_type": "markdown",
      "id": "f32d1ec9-9d9b-463c-ba3f-f066ad481a47",
      "metadata": {
        "id": "f32d1ec9-9d9b-463c-ba3f-f066ad481a47"
      },
      "source": [
        "**⚠️ Integer vs Float Quick Guide**\n",
        "\n",
        "**Integers (`int`)**:\n",
        "- Whole numbers: `42`, `-17`, `0`\n",
        "- No decimal point\n",
        "- Perfect for counting discrete items\n",
        "- Example: `students = 25`\n",
        "\n",
        "**Floats (`float`)**:\n",
        "- Decimal numbers: `3.14`, `19.99`, `-2.5`\n",
        "- Always have a decimal point (even `5.0`)\n",
        "- Perfect for measurements and precise values\n",
        "- Example: `price = 19.99`\n",
        "\n",
        "**Key Point:** `5` is **int**, `5.0` is **float** → syntax matters!\n"
      ]
    },
    {
      "cell_type": "code",
      "execution_count": null,
      "id": "6b4badac-9a31-4bfe-ae70-ee1338e06741",
      "metadata": {
        "id": "6b4badac-9a31-4bfe-ae70-ee1338e06741"
      },
      "outputs": [],
      "source": []
    },
    {
      "cell_type": "markdown",
      "id": "33a867c5-836b-4e30-94f4-5539c0a4ac1f",
      "metadata": {
        "id": "33a867c5-836b-4e30-94f4-5539c0a4ac1f"
      },
      "source": [
        "Converting Between Number Types\n",
        "\n",
        "**⚠️ Conversion Rules**\n",
        "\n",
        "**`int()` function**:\n",
        "- **Truncates** (removes) decimal part  \n",
        "- `int(15.7)` → `15` (not 16!)  \n",
        "- `int(-3.9)` → `-3` (not -4!)  \n",
        "\n",
        "**`float()` function**:\n",
        "- Adds `.0` to integers  \n",
        "- `float(42)` → `42.0`  \n",
        "\n",
        "**`round()` function**:\n",
        "- Rounds to nearest integer  \n",
        "- `round(15.7)` → `16`  \n",
        "- `round(15.2)` → `15`  \n",
        "\n",
        "**Remember:** `int()` **truncates**, `round()` **rounds!**\n"
      ]
    },
    {
      "cell_type": "code",
      "execution_count": null,
      "id": "cc734c88-72ed-4839-b3b3-af01d6532e58",
      "metadata": {
        "id": "cc734c88-72ed-4839-b3b3-af01d6532e58"
      },
      "outputs": [],
      "source": []
    },
    {
      "cell_type": "markdown",
      "id": "f60cea5f-4083-4ae7-be44-2269cc239455",
      "metadata": {
        "id": "f60cea5f-4083-4ae7-be44-2269cc239455"
      },
      "source": [
        "## 6. Text and Strings\n",
        "\n",
        "**String Creation Rules**\n",
        "\n",
        "**Quote Types**:\n",
        "- Single quotes: `'Hello World'`\n",
        "- Double quotes: `\"Hello World\"`\n",
        "- Triple quotes: `\"\"\"Hello World\"\"\"` (for multi-line)\n",
        "\n",
        "**When to use each**:\n",
        "- **Single quotes:** General text, when text contains double quotes  \n",
        "- **Double quotes:** General text, when text contains apostrophes  \n",
        "- **Triple quotes:** Multi-line text, documentation  \n",
        "\n",
        "**Key Points**:\n",
        "- Opening and closing quotes must match  \n",
        "- Empty strings are valid: `\"\"` or `''`  \n",
        "- Strings are immutable (cannot be changed after creation)  \n"
      ]
    },
    {
      "cell_type": "code",
      "execution_count": null,
      "id": "e4af37fd-4149-46c2-aa03-8c40b6860297",
      "metadata": {
        "id": "e4af37fd-4149-46c2-aa03-8c40b6860297"
      },
      "outputs": [],
      "source": []
    },
    {
      "cell_type": "markdown",
      "id": "0468b3e1-72c3-47b1-bf23-96c354e47c2d",
      "metadata": {
        "id": "0468b3e1-72c3-47b1-bf23-96c354e47c2d"
      },
      "source": [
        "## 7. Boolean Type (True or False)\n",
        "\n",
        "**Boolean Basics**\n",
        "\n",
        "**The Two Values**:\n",
        "- `True` → represents yes, on, correct, success  \n",
        "- `False` → represents no, off, incorrect, failure  \n",
        "\n",
        "**Important Rules**:\n",
        "- Case-sensitive (must be capitalized exactly)  \n",
        "- Used for logical operations and decision-making  \n",
        "- Result from comparison operations (`5 > 3` returns `True`)  \n",
        "\n",
        "**Common Uses**:\n",
        "- Storing on/off, enabled/disabled states  \n",
        "- Controlling program flow (if statements, loops)  \n",
        "- Flags to track program state  \n"
      ]
    },
    {
      "cell_type": "code",
      "execution_count": null,
      "id": "7b167d45-8c99-4409-b0d0-7ad031e6b18b",
      "metadata": {
        "id": "7b167d45-8c99-4409-b0d0-7ad031e6b18b"
      },
      "outputs": [],
      "source": []
    },
    {
      "cell_type": "markdown",
      "id": "59f6ad4c-d5b5-4c0a-ae5c-e93372f8e9b8",
      "metadata": {
        "id": "59f6ad4c-d5b5-4c0a-ae5c-e93372f8e9b8"
      },
      "source": [
        "### Why Data Types Matter\n",
        "\n",
        "**Data Types**\n",
        "\n",
        "Think of data types like different toolboxes—each one is designed for specific tasks:\n",
        "\n",
        "- **Numbers 🔢**: For math, counting, and calculations  \n",
        "- **Text 📝**: For names, messages, and words  \n",
        "- **True/False ✅**: For decisions and yes/no questions  \n",
        "\n",
        "Using the right data type ensures your program works correctly and efficiently.\n",
        "\n",
        "Example: You can add numbers together, but you can't multiply text—Python's data types help prevent these errors!\n",
        "\n",
        "\n",
        "\n",
        "**Python's Core Data Types**\n",
        "\n",
        "**Numeric Types**:\n",
        "- `int` : Whole numbers → `25`, `-10`, `0`\n",
        "- `float` : Decimal numbers → `3.14`, `19.99`, `-2.5`\n",
        "\n",
        "**Text Type**:\n",
        "- `str` : Text/strings → `\"Hello\"`, `'Python'`, `\"123\"`\n",
        "\n",
        "**Boolean Type**:\n",
        "- `bool` : True/False values → `True`, `False`\n",
        "\n",
        "**Special Type**:\n",
        "- `NoneType` : Empty value → `None`\n",
        "\n",
        "**Python's Magic:** Automatically detects and assigns the right type!\n"
      ]
    },
    {
      "cell_type": "markdown",
      "id": "b0a6b27d-697c-4353-8d28-ac134341e337",
      "metadata": {
        "id": "b0a6b27d-697c-4353-8d28-ac134341e337"
      },
      "source": [
        "### Why should we care"
      ]
    },
    {
      "cell_type": "markdown",
      "id": "65476445-40ab-4ddf-bd5d-399b2efde7cb",
      "metadata": {
        "id": "65476445-40ab-4ddf-bd5d-399b2efde7cb"
      },
      "source": [
        "**Prevents Errors. Different types support different operations**"
      ]
    },
    {
      "cell_type": "code",
      "execution_count": null,
      "id": "7317576b-8445-4d80-a555-7d85bf2624c2",
      "metadata": {
        "id": "7317576b-8445-4d80-a555-7d85bf2624c2"
      },
      "outputs": [],
      "source": []
    },
    {
      "cell_type": "markdown",
      "id": "c115eb02-9a38-4aeb-bf4b-1e06f6c8578c",
      "metadata": {
        "id": "c115eb02-9a38-4aeb-bf4b-1e06f6c8578c"
      },
      "source": [
        "**Enables Correct Operations. Each type has specific capabilities:**"
      ]
    },
    {
      "cell_type": "code",
      "execution_count": null,
      "id": "183213fe-cdcf-421b-819c-396e5104ce0b",
      "metadata": {
        "id": "183213fe-cdcf-421b-819c-396e5104ce0b"
      },
      "outputs": [],
      "source": []
    },
    {
      "cell_type": "markdown",
      "id": "45092773-4bcb-40a5-b354-311a40e38324",
      "metadata": {
        "id": "45092773-4bcb-40a5-b354-311a40e38324"
      },
      "source": [
        "**Make Code predictable. Knowing types helps you understand what your code will do.**"
      ]
    },
    {
      "cell_type": "code",
      "execution_count": null,
      "id": "8850709b-8ffc-42ae-af21-02ddef517cb7",
      "metadata": {
        "id": "8850709b-8ffc-42ae-af21-02ddef517cb7"
      },
      "outputs": [],
      "source": []
    },
    {
      "cell_type": "markdown",
      "id": "45da9ff1-368c-4173-9b42-a250a167a1a1",
      "metadata": {
        "id": "45da9ff1-368c-4173-9b42-a250a167a1a1"
      },
      "source": [
        "## 8. Python Operators\n",
        "\n",
        "**Python Operator Categories**\n",
        "\n",
        "**Core Operator Types**:\n",
        "- **Arithmetic**: Mathematical operations (`+`, `-`, `*`, `/`, `%`)  \n",
        "- **Comparison**: Value comparisons (`==`, `!=`, `<`, `>`, `<=`, `>=`)  \n",
        "- **Logical**: Boolean logic (`and`, `or`, `not`)  \n",
        "- **Assignment**: Variable assignment (`=`, `+=`, `-=`, `*=`, `/=`)  \n",
        "- **Membership**: Collection testing (`in`, `not in`)  \n",
        "- **Identity**: Object identity (`is`, `is not`)  \n",
        "\n",
        "\n",
        "**Design Philosophy:** Each operator type serves specific programming needs  \n",
        "**Versatility:** Many operators work with multiple data types  \n"
      ]
    },
    {
      "cell_type": "code",
      "execution_count": null,
      "id": "49f197f7-3553-4bc4-b2ef-b8892781aa88",
      "metadata": {
        "id": "49f197f7-3553-4bc4-b2ef-b8892781aa88"
      },
      "outputs": [],
      "source": []
    },
    {
      "cell_type": "markdown",
      "id": "480b3de3-b8ba-4289-b794-a779a66d8d02",
      "metadata": {
        "id": "480b3de3-b8ba-4289-b794-a779a66d8d02"
      },
      "source": [
        "### Math Operations"
      ]
    },
    {
      "cell_type": "code",
      "execution_count": null,
      "id": "86a96f9d-bb02-4ad0-a3ed-ada81ce0850f",
      "metadata": {
        "id": "86a96f9d-bb02-4ad0-a3ed-ada81ce0850f"
      },
      "outputs": [],
      "source": []
    },
    {
      "cell_type": "markdown",
      "id": "68097f1d-a71d-4c6c-bcc5-fc89e1f4d95e",
      "metadata": {
        "id": "68097f1d-a71d-4c6c-bcc5-fc89e1f4d95e"
      },
      "source": [
        "### Comparing"
      ]
    },
    {
      "cell_type": "code",
      "execution_count": null,
      "id": "03f90c4c-62a0-48bf-9897-9bb052e590b7",
      "metadata": {
        "id": "03f90c4c-62a0-48bf-9897-9bb052e590b7"
      },
      "outputs": [],
      "source": []
    },
    {
      "cell_type": "markdown",
      "id": "a23b3f56-bed9-4374-bca6-217c34190527",
      "metadata": {
        "id": "a23b3f56-bed9-4374-bca6-217c34190527"
      },
      "source": [
        "### Logic Operations"
      ]
    },
    {
      "cell_type": "code",
      "execution_count": null,
      "id": "23742482-2294-41f4-b80a-8e9f08b4e977",
      "metadata": {
        "id": "23742482-2294-41f4-b80a-8e9f08b4e977"
      },
      "outputs": [],
      "source": []
    },
    {
      "cell_type": "markdown",
      "id": "1c918a6d-d04f-40e5-82a0-1670313197db",
      "metadata": {
        "id": "1c918a6d-d04f-40e5-82a0-1670313197db"
      },
      "source": [
        "### Value assignment"
      ]
    },
    {
      "cell_type": "code",
      "execution_count": null,
      "id": "8aef9a6d-0032-43d7-8459-90f14fe9737b",
      "metadata": {
        "id": "8aef9a6d-0032-43d7-8459-90f14fe9737b"
      },
      "outputs": [],
      "source": []
    },
    {
      "cell_type": "markdown",
      "id": "e3751a08-e996-48e8-9513-2f998d83706e",
      "metadata": {
        "id": "e3751a08-e996-48e8-9513-2f998d83706e"
      },
      "source": [
        "### Operator Precedence"
      ]
    },
    {
      "cell_type": "code",
      "execution_count": null,
      "id": "e67a6f86-8025-4e96-98c8-61c34d0e33d3",
      "metadata": {
        "id": "e67a6f86-8025-4e96-98c8-61c34d0e33d3"
      },
      "outputs": [],
      "source": []
    },
    {
      "cell_type": "markdown",
      "id": "5c1ccafe-59f4-4e99-9d53-a00575430295",
      "metadata": {
        "id": "5c1ccafe-59f4-4e99-9d53-a00575430295"
      },
      "source": [
        "## Exercise"
      ]
    },
    {
      "cell_type": "markdown",
      "id": "d1bf6490-a274-4852-8a17-7f2b6dddc568",
      "metadata": {
        "id": "d1bf6490-a274-4852-8a17-7f2b6dddc568"
      },
      "source": [
        "## Exercise 2.1"
      ]
    },
    {
      "cell_type": "code",
      "execution_count": null,
      "id": "979afb3c-6459-43ec-9ce3-10344e75e33e",
      "metadata": {
        "id": "979afb3c-6459-43ec-9ce3-10344e75e33e"
      },
      "outputs": [],
      "source": []
    },
    {
      "cell_type": "markdown",
      "id": "437f4c5a-2860-426f-a384-06e9f7eac4a0",
      "metadata": {
        "id": "437f4c5a-2860-426f-a384-06e9f7eac4a0"
      },
      "source": [
        "## Exercise 2.2"
      ]
    },
    {
      "cell_type": "code",
      "execution_count": null,
      "id": "bf77c711-c058-4184-a5d1-d887fded5668",
      "metadata": {
        "id": "bf77c711-c058-4184-a5d1-d887fded5668"
      },
      "outputs": [],
      "source": []
    },
    {
      "cell_type": "markdown",
      "id": "2052438c-b90e-426d-8d57-17a4d4a359b6",
      "metadata": {
        "id": "2052438c-b90e-426d-8d57-17a4d4a359b6"
      },
      "source": [
        "## Exercise 2.3"
      ]
    },
    {
      "cell_type": "code",
      "execution_count": null,
      "id": "4b912ba5-d819-4d27-b14a-c821f29b34cb",
      "metadata": {
        "id": "4b912ba5-d819-4d27-b14a-c821f29b34cb"
      },
      "outputs": [],
      "source": []
    },
    {
      "cell_type": "markdown",
      "id": "b14b16b6-1bf3-45f7-9e75-85e9a05bb25c",
      "metadata": {
        "id": "b14b16b6-1bf3-45f7-9e75-85e9a05bb25c"
      },
      "source": [
        "## Exercise 2.4"
      ]
    },
    {
      "cell_type": "code",
      "execution_count": null,
      "id": "587f67e5-c325-47f3-adbe-5695d151b5bf",
      "metadata": {
        "id": "587f67e5-c325-47f3-adbe-5695d151b5bf"
      },
      "outputs": [],
      "source": []
    },
    {
      "cell_type": "markdown",
      "id": "ff857ecd-32b6-4380-be2e-b556974ce17d",
      "metadata": {
        "id": "ff857ecd-32b6-4380-be2e-b556974ce17d"
      },
      "source": [
        "## Exercise 2.5"
      ]
    },
    {
      "cell_type": "code",
      "execution_count": null,
      "id": "7b06f4b7-bd63-48ee-b639-d788c9d23799",
      "metadata": {
        "id": "7b06f4b7-bd63-48ee-b639-d788c9d23799"
      },
      "outputs": [],
      "source": []
    },
    {
      "cell_type": "markdown",
      "id": "66209ea0-d67f-4562-bf62-fb8ea8c99925",
      "metadata": {
        "id": "66209ea0-d67f-4562-bf62-fb8ea8c99925"
      },
      "source": [
        "## Exercise 2.6"
      ]
    },
    {
      "cell_type": "code",
      "execution_count": null,
      "id": "231d8dbf-8dec-4476-93ef-3fa02335a872",
      "metadata": {
        "id": "231d8dbf-8dec-4476-93ef-3fa02335a872"
      },
      "outputs": [],
      "source": []
    },
    {
      "cell_type": "markdown",
      "id": "44f07d5d-7883-428d-b27f-fd1cf8907833",
      "metadata": {
        "id": "44f07d5d-7883-428d-b27f-fd1cf8907833"
      },
      "source": [
        "## Exercise 2.7"
      ]
    },
    {
      "cell_type": "code",
      "execution_count": null,
      "id": "057671de-85e8-4967-b789-ae5e418720e8",
      "metadata": {
        "id": "057671de-85e8-4967-b789-ae5e418720e8"
      },
      "outputs": [],
      "source": []
    },
    {
      "cell_type": "markdown",
      "id": "d2f0656e-7bfb-42ad-93b2-80fc3a28136a",
      "metadata": {
        "id": "d2f0656e-7bfb-42ad-93b2-80fc3a28136a"
      },
      "source": [
        "## Exercise 2.8"
      ]
    },
    {
      "cell_type": "code",
      "execution_count": null,
      "id": "6ed39e9e-f1a3-4b15-801b-ebcf54e01c42",
      "metadata": {
        "id": "6ed39e9e-f1a3-4b15-801b-ebcf54e01c42"
      },
      "outputs": [],
      "source": []
    },
    {
      "cell_type": "markdown",
      "id": "7c24d982-8cc3-4647-8801-d6ff466a9d14",
      "metadata": {
        "id": "7c24d982-8cc3-4647-8801-d6ff466a9d14"
      },
      "source": [
        "## Exercise 2.9"
      ]
    },
    {
      "cell_type": "code",
      "execution_count": null,
      "id": "4c5e6834-9d76-4bed-a931-9206d51aaf05",
      "metadata": {
        "id": "4c5e6834-9d76-4bed-a931-9206d51aaf05"
      },
      "outputs": [],
      "source": []
    }
  ],
  "metadata": {
    "kernelspec": {
      "display_name": "Python 3 (ipykernel)",
      "language": "python",
      "name": "python3"
    },
    "language_info": {
      "codemirror_mode": {
        "name": "ipython",
        "version": 3
      },
      "file_extension": ".py",
      "mimetype": "text/x-python",
      "name": "python",
      "nbconvert_exporter": "python",
      "pygments_lexer": "ipython3",
      "version": "3.13.7"
    },
    "colab": {
      "provenance": []
    }
  },
  "nbformat": 4,
  "nbformat_minor": 5
}