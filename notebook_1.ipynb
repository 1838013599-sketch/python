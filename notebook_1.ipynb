{
 "cells": [
  {
   "cell_type": "markdown",
   "id": "496e769b",
   "metadata": {},
   "source": [
    "\n",
    "# Getting Started with Python - Session 1\n",
    "\n",
    "## 1. How to Install Python\n",
    "\n",
    "### Windows / macOS\n",
    "1. Go to the official Python website: [https://www.python.org/downloads/](https://www.python.org/downloads/)\n",
    "2. Download the latest stable version of Python (recommended: 3.x).\n",
    "3. Run the installer and check **\"Add Python to PATH\"** before clicking *Install Now*.\n",
    "4. After installation, open your terminal (Command Prompt on Windows, Terminal on macOS) and type:\n",
    "\n",
    "`python --version`\n",
    "\n",
    "to check the installation."
   ]
  },
  {
   "cell_type": "markdown",
   "id": "af0dff61",
   "metadata": {},
   "source": [
    "\n",
    "## 2. How to Install Jupyter Notebook\n",
    "\n",
    "Once Python is installed, open your terminal and install Jupyter with:\n",
    "\n",
    "`pip install notebook`\n",
    "\n",
    "To start Jupyter Notebook, type:\n",
    "\n",
    "`jupyter notebook`\n",
    "\n",
    "or\n",
    "\n",
    "`python -m notebook`\n",
    "\n",
    "This will open a web page where you can create and run Python notebooks.\n"
   ]
  },
  {
   "attachments": {},
   "cell_type": "markdown",
   "id": "8d1d9b43-399d-43df-9566-83ac1cb53de5",
   "metadata": {},
   "source": [
    "\n",
    "## 3. You can also use following to use Jupyter as a temporary solution\n",
    "\n",
    "Online Jupyter\n",
    "\n",
    "https://jupyter.org/try-jupyter/lab/\n",
    "\n",
    "Google Colab\n",
    "\n",
    "https://colab.research.google.com/\n",
    "\n",
    "Anaconda\n",
    "\n",
    "https://www.anaconda.com/download/success"
   ]
  },
  {
   "attachments": {},
   "cell_type": "markdown",
   "id": "8a652d6c",
   "metadata": {},
   "source": [
    "## 3. First Python Program\n",
    "\n",
    "The **print()** function is your tool for displaying information on the screen. It's one of the most important functions you'll use in Python.\n",
    "\n",
    "The string “Hello World” is the input of the function print() \n",
    "\n",
    "You see “Hello World” after you run the code. It is the ouput of the function print()"
   ]
  },
  {
   "cell_type": "code",
   "execution_count": null,
   "id": "0fa8e58a",
   "metadata": {},
   "outputs": [],
   "source": []
  },
  {
   "cell_type": "markdown",
   "id": "3340932a-82e4-4597-b230-7c647662e59c",
   "metadata": {},
   "source": [
    "**print()** Function Essentials\n",
    "\n",
    "- Purpose: Show text or data on the screen.\n",
    "\n",
    "- Syntax: print(\"your message\")\n",
    "\n",
    "- Quotes: Use single ' ' or double \" \" quotes for text.\n",
    "\n",
    "- Multiple items: print(\"Hello\", \"World\", 123)\n",
    "\n",
    "- Always remember: Parentheses () are required."
   ]
  },
  {
   "cell_type": "code",
   "execution_count": null,
   "id": "bafe8d32-578c-4498-b89c-e604de119cc0",
   "metadata": {},
   "outputs": [],
   "source": []
  },
  {
   "attachments": {},
   "cell_type": "markdown",
   "id": "9b956765-bf3d-453d-b41f-8544530ac825",
   "metadata": {},
   "source": [
    "## 4. Simpla Math in Python\n",
    "\n",
    "Python makes math easy! You can use variables and numbers together to create useful calculations.\n",
    "\n",
    "**Basic Math Operators**\n",
    "\n",
    "- Addition (+) → 2 + 3 = 5\n",
    "\n",
    "- Subtraction (-) → 5 - 2 = 3\n",
    "\n",
    "- Multiplication (*) → 3 * 4 = 12\n",
    "\n",
    "- Division (/) → 10 / 2 = 5.0"
   ]
  },
  {
   "cell_type": "code",
   "execution_count": null,
   "id": "8bf87388-a097-41b0-a788-1d0c3f836731",
   "metadata": {},
   "outputs": [],
   "source": []
  },
  {
   "attachments": {},
   "cell_type": "markdown",
   "id": "b37a872c-88c3-476f-bcb0-af8724fd0879",
   "metadata": {},
   "source": [
    "## 5. Comparison Operators\n",
    "\n",
    "Similar to actual Mathematics.\n",
    "\n",
    "Order of calculations is the same as in Mathematics.\n",
    "\n",
    "| Symbol | Task Performed  | Example | Result |\n",
    "|--------|----------------|---------|--------|\n",
    "| +      | Addition       | 4 + 3   | 7      |\n",
    "| -      | Subtraction    | 4 - 3   | 1      |\n",
    "| /      | Division       | 7 / 2   | 3.5    |\n",
    "| %      | Mod            | 7 % 2   | 1      |\n",
    "| *      | Multiplication | 4 * 3   | 12     |\n",
    "| //     | Floor division | 7 // 2  | 3      |\n",
    "| **     | Power of       | 7 ** 2  | 49     |\n",
    "\n",
    "\n",
    "We can compare two numbers.\n",
    "\n",
    "Return True of False.\n",
    "\n",
    "| Operator | Output |\n",
    "|----------|------------------------------------------------|\n",
    "| x == y   | True if x and y have the same value            |\n",
    "| x != y   | True if x and y don't have the same value      |\n",
    "| x < y    | True if x is less than y                       |\n",
    "| x > y    | True if x is more than y                       |\n",
    "| x <= y   | True if x is less than or equal to y           |\n",
    "| x >= y   | True if x is more than or equal to y           |\n",
    "\n"
   ]
  },
  {
   "cell_type": "code",
   "execution_count": null,
   "id": "66abbe71-cf94-48f5-8dfc-1e8781241b74",
   "metadata": {},
   "outputs": [],
   "source": []
  },
  {
   "attachments": {},
   "cell_type": "markdown",
   "id": "b99cbf62-9900-4d28-bb4b-ad20981b6892",
   "metadata": {},
   "source": [
    "## 8. Writting Comments\n",
    "\n",
    "Comments are notes you write in your code to explain what it does and why. They're like leaving helpful messages for yourself and other programmers who might read your code later. \n",
    "\n",
    "Python ignores comments completely when running your program, so you can write as many as you need!\n",
    "\n",
    "Good comments make your programs easier to understand, debug, and maintain. Think of them as documentation that travels with your code.\n",
    "\n"
   ]
  },
  {
   "cell_type": "code",
   "execution_count": null,
   "id": "9471da59-ed30-460a-9bf3-3880a1ed9485",
   "metadata": {},
   "outputs": [],
   "source": []
  },
  {
   "cell_type": "code",
   "execution_count": null,
   "id": "34642444-a843-45e5-b474-553fdd9501ca",
   "metadata": {},
   "outputs": [],
   "source": []
  },
  {
   "cell_type": "code",
   "execution_count": null,
   "id": "d71133f1-29e5-4b77-9f2b-32881119da22",
   "metadata": {},
   "outputs": [],
   "source": []
  },
  {
   "cell_type": "markdown",
   "id": "80aa2d14-7f33-4045-8558-d3c00160d5a0",
   "metadata": {},
   "source": [
    "## Exercises"
   ]
  },
  {
   "cell_type": "markdown",
   "id": "57527ef6-5c0a-4136-9336-148683cca090",
   "metadata": {},
   "source": [
    "### Exercise 1.1 print your info"
   ]
  },
  {
   "cell_type": "code",
   "execution_count": null,
   "id": "1ce0da08-f7b6-4486-859e-a5bce216a967",
   "metadata": {},
   "outputs": [],
   "source": []
  },
  {
   "cell_type": "markdown",
   "id": "a118f1c8-d0e1-4860-8aaa-7a1bd010e386",
   "metadata": {},
   "source": [
    "### Exercise 1.2 Calculator"
   ]
  },
  {
   "cell_type": "code",
   "execution_count": null,
   "id": "ef27572f-9c0a-42dc-b379-7cfa367490ff",
   "metadata": {},
   "outputs": [],
   "source": []
  },
  {
   "cell_type": "markdown",
   "id": "a687bfe6-63f4-4b27-90ab-03e8014c32cf",
   "metadata": {},
   "source": [
    "### Exercise 1.3 How Much"
   ]
  },
  {
   "cell_type": "code",
   "execution_count": null,
   "id": "2cab4919-c107-45c6-915a-3ca3eae3d122",
   "metadata": {},
   "outputs": [],
   "source": []
  },
  {
   "cell_type": "markdown",
   "id": "9a86b170-2837-43c4-bf1c-4c6e87b27b14",
   "metadata": {},
   "source": [
    "### Exercise 1.4 How to comment"
   ]
  },
  {
   "cell_type": "code",
   "execution_count": null,
   "id": "c7963d37-f977-4b2e-9be3-39a5deaeff77",
   "metadata": {},
   "outputs": [],
   "source": []
  },
  {
   "cell_type": "markdown",
   "id": "d4d8d710-5bec-4630-9c2e-a8aa0b835e87",
   "metadata": {},
   "source": [
    "### Exercise 1.5 "
   ]
  }
 ],
 "metadata": {
  "kernelspec": {
   "display_name": "Python 3 (ipykernel)",
   "language": "python",
   "name": "python3"
  },
  "language_info": {
   "codemirror_mode": {
    "name": "ipython",
    "version": 3
   },
   "file_extension": ".py",
   "mimetype": "text/x-python",
   "name": "python",
   "nbconvert_exporter": "python",
   "pygments_lexer": "ipython3",
   "version": "3.13.7"
  }
 },
 "nbformat": 4,
 "nbformat_minor": 5
}
